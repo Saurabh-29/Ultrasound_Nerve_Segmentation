{
 "cells": [
  {
   "cell_type": "code",
   "execution_count": 1,
   "metadata": {},
   "outputs": [
    {
     "name": "stderr",
     "output_type": "stream",
     "text": [
      "Using TensorFlow backend.\n"
     ]
    }
   ],
   "source": [
    "from __future__ import print_function\n",
    "\n",
    "import os\n",
    "from skimage.transform import resize\n",
    "from skimage.io import imsave\n",
    "import numpy as np\n",
    "from keras.models import Model\n",
    "from keras.layers import Input, Concatenate, Conv2D, MaxPool2D, Conv2DTranspose,UpSampling2D,concatenate,MaxPooling2D\n",
    "from keras.optimizers import Adam\n",
    "from keras.callbacks import ModelCheckpoint\n",
    "from keras import backend as K"
   ]
  },
  {
   "cell_type": "code",
   "execution_count": 2,
   "metadata": {
    "collapsed": true
   },
   "outputs": [],
   "source": [
    "from data import load_train_data, load_test_data\n",
    "K.set_image_data_format('channels_last')"
   ]
  },
  {
   "cell_type": "code",
   "execution_count": 3,
   "metadata": {
    "collapsed": true
   },
   "outputs": [],
   "source": [
    "img_rows = 96\n",
    "img_cols = 96\n",
    "\n",
    "smooth = 1.\n",
    "size=96"
   ]
  },
  {
   "cell_type": "code",
   "execution_count": 4,
   "metadata": {
    "collapsed": true
   },
   "outputs": [],
   "source": [
    "def dice_coef(y_true, y_pred):\n",
    "    y_true_f = K.flatten(y_true)\n",
    "    y_pred_f = K.flatten(y_pred)\n",
    "    intersection = K.sum(y_true_f * y_pred_f)\n",
    "    return (2. * intersection + smooth) / (K.sum(y_true_f) + K.sum(y_pred_f) + smooth)\n",
    "\n",
    "\n",
    "def dice_coef_loss(y_true, y_pred):\n",
    "    return 1-dice_coef(y_true, y_pred)\n"
   ]
  },
  {
   "cell_type": "code",
   "execution_count": 5,
   "metadata": {
    "collapsed": true
   },
   "outputs": [],
   "source": [
    "def down(input_layers,filters,pool=True):\n",
    "    conv1=Conv2D(filters,(2,2),padding=\"same\",activation='elu')(input_layers)\n",
    "    residual = Conv2D(filters, (3, 3), padding='same', activation='elu')(conv1)\n",
    "    if pool:\n",
    "        max_pool = MaxPool2D()(residual)\n",
    "        return max_pool, residual\n",
    "    else:\n",
    "        return residual\n",
    "\n",
    "def up(input_layer, residual, filters):\n",
    "    filters=int(filters)\n",
    "    upsample = UpSampling2D()(input_layer)\n",
    "    upconv = Conv2D(filters, kernel_size=(2, 2), padding=\"same\")(upsample)\n",
    "    concat = Concatenate(axis=3)([residual, upconv])\n",
    "    conv1 = Conv2D(filters, (3, 3), padding='same', activation='elu')(concat)\n",
    "    conv2 = Conv2D(filters, (3, 3), padding='same', activation='elu')(conv1)\n",
    "    return conv2"
   ]
  },
  {
   "cell_type": "code",
   "execution_count": 6,
   "metadata": {},
   "outputs": [
    {
     "name": "stdout",
     "output_type": "stream",
     "text": [
      "____________________________________________________________________________________________________\n",
      "Layer (type)                     Output Shape          Param #     Connected to                     \n",
      "====================================================================================================\n",
      "input_1 (InputLayer)             (None, 96, 96, 1)     0                                            \n",
      "____________________________________________________________________________________________________\n",
      "conv2d_1 (Conv2D)                (None, 96, 96, 32)    160         input_1[0][0]                    \n",
      "____________________________________________________________________________________________________\n",
      "conv2d_2 (Conv2D)                (None, 96, 96, 32)    9248        conv2d_1[0][0]                   \n",
      "____________________________________________________________________________________________________\n",
      "max_pooling2d_1 (MaxPooling2D)   (None, 48, 48, 32)    0           conv2d_2[0][0]                   \n",
      "____________________________________________________________________________________________________\n",
      "conv2d_3 (Conv2D)                (None, 48, 48, 64)    8256        max_pooling2d_1[0][0]            \n",
      "____________________________________________________________________________________________________\n",
      "conv2d_4 (Conv2D)                (None, 48, 48, 64)    36928       conv2d_3[0][0]                   \n",
      "____________________________________________________________________________________________________\n",
      "max_pooling2d_2 (MaxPooling2D)   (None, 24, 24, 64)    0           conv2d_4[0][0]                   \n",
      "____________________________________________________________________________________________________\n",
      "conv2d_5 (Conv2D)                (None, 24, 24, 128)   32896       max_pooling2d_2[0][0]            \n",
      "____________________________________________________________________________________________________\n",
      "conv2d_6 (Conv2D)                (None, 24, 24, 128)   147584      conv2d_5[0][0]                   \n",
      "____________________________________________________________________________________________________\n",
      "max_pooling2d_3 (MaxPooling2D)   (None, 12, 12, 128)   0           conv2d_6[0][0]                   \n",
      "____________________________________________________________________________________________________\n",
      "conv2d_7 (Conv2D)                (None, 12, 12, 256)   131328      max_pooling2d_3[0][0]            \n",
      "____________________________________________________________________________________________________\n",
      "conv2d_8 (Conv2D)                (None, 12, 12, 256)   590080      conv2d_7[0][0]                   \n",
      "____________________________________________________________________________________________________\n",
      "max_pooling2d_4 (MaxPooling2D)   (None, 6, 6, 256)     0           conv2d_8[0][0]                   \n",
      "____________________________________________________________________________________________________\n",
      "conv2d_9 (Conv2D)                (None, 6, 6, 512)     524800      max_pooling2d_4[0][0]            \n",
      "____________________________________________________________________________________________________\n",
      "conv2d_10 (Conv2D)               (None, 6, 6, 512)     2359808     conv2d_9[0][0]                   \n",
      "____________________________________________________________________________________________________\n",
      "up_sampling2d_1 (UpSampling2D)   (None, 12, 12, 512)   0           conv2d_10[0][0]                  \n",
      "____________________________________________________________________________________________________\n",
      "conv2d_11 (Conv2D)               (None, 12, 12, 256)   524544      up_sampling2d_1[0][0]            \n",
      "____________________________________________________________________________________________________\n",
      "concatenate_1 (Concatenate)      (None, 12, 12, 512)   0           conv2d_8[0][0]                   \n",
      "                                                                   conv2d_11[0][0]                  \n",
      "____________________________________________________________________________________________________\n",
      "conv2d_12 (Conv2D)               (None, 12, 12, 256)   1179904     concatenate_1[0][0]              \n",
      "____________________________________________________________________________________________________\n",
      "conv2d_13 (Conv2D)               (None, 12, 12, 256)   590080      conv2d_12[0][0]                  \n",
      "____________________________________________________________________________________________________\n",
      "up_sampling2d_2 (UpSampling2D)   (None, 24, 24, 256)   0           conv2d_13[0][0]                  \n",
      "____________________________________________________________________________________________________\n",
      "conv2d_14 (Conv2D)               (None, 24, 24, 128)   131200      up_sampling2d_2[0][0]            \n",
      "____________________________________________________________________________________________________\n",
      "concatenate_2 (Concatenate)      (None, 24, 24, 256)   0           conv2d_6[0][0]                   \n",
      "                                                                   conv2d_14[0][0]                  \n",
      "____________________________________________________________________________________________________\n",
      "conv2d_15 (Conv2D)               (None, 24, 24, 128)   295040      concatenate_2[0][0]              \n",
      "____________________________________________________________________________________________________\n",
      "conv2d_16 (Conv2D)               (None, 24, 24, 128)   147584      conv2d_15[0][0]                  \n",
      "____________________________________________________________________________________________________\n",
      "up_sampling2d_3 (UpSampling2D)   (None, 48, 48, 128)   0           conv2d_16[0][0]                  \n",
      "____________________________________________________________________________________________________\n",
      "conv2d_17 (Conv2D)               (None, 48, 48, 64)    32832       up_sampling2d_3[0][0]            \n",
      "____________________________________________________________________________________________________\n",
      "concatenate_3 (Concatenate)      (None, 48, 48, 128)   0           conv2d_4[0][0]                   \n",
      "                                                                   conv2d_17[0][0]                  \n",
      "____________________________________________________________________________________________________\n",
      "conv2d_18 (Conv2D)               (None, 48, 48, 64)    73792       concatenate_3[0][0]              \n",
      "____________________________________________________________________________________________________\n",
      "conv2d_19 (Conv2D)               (None, 48, 48, 64)    36928       conv2d_18[0][0]                  \n",
      "____________________________________________________________________________________________________\n",
      "up_sampling2d_4 (UpSampling2D)   (None, 96, 96, 64)    0           conv2d_19[0][0]                  \n",
      "____________________________________________________________________________________________________\n",
      "conv2d_20 (Conv2D)               (None, 96, 96, 32)    8224        up_sampling2d_4[0][0]            \n",
      "____________________________________________________________________________________________________\n",
      "concatenate_4 (Concatenate)      (None, 96, 96, 64)    0           conv2d_2[0][0]                   \n",
      "                                                                   conv2d_20[0][0]                  \n",
      "____________________________________________________________________________________________________\n",
      "conv2d_21 (Conv2D)               (None, 96, 96, 32)    18464       concatenate_4[0][0]              \n",
      "____________________________________________________________________________________________________\n",
      "conv2d_22 (Conv2D)               (None, 96, 96, 32)    9248        conv2d_21[0][0]                  \n",
      "____________________________________________________________________________________________________\n",
      "conv2d_23 (Conv2D)               (None, 96, 96, 1)     33          conv2d_22[0][0]                  \n",
      "====================================================================================================\n",
      "Total params: 6,888,961\n",
      "Trainable params: 6,888,961\n",
      "Non-trainable params: 0\n",
      "____________________________________________________________________________________________________\n"
     ]
    }
   ],
   "source": [
    "# Make a custom U-nets implementation.\n",
    "filters = 32\n",
    "input_layer = Input(shape = [size,size, 1])\n",
    "layers = [input_layer]\n",
    "residuals = []\n",
    "\n",
    "# Down 1, 128\n",
    "d1, res1 = down(input_layer, filters)\n",
    "residuals.append(res1)\n",
    "\n",
    "filters *= 2\n",
    "\n",
    "# Down 2, 64\n",
    "d2, res2 = down(d1, filters)\n",
    "residuals.append(res2)\n",
    "\n",
    "filters *= 2\n",
    "\n",
    "# Down 3, 32\n",
    "d3, res3 = down(d2, filters)\n",
    "residuals.append(res3)\n",
    "\n",
    "filters *= 2\n",
    "\n",
    "# Down 4, 16\n",
    "d4, res4 = down(d3, filters)\n",
    "residuals.append(res4)\n",
    "\n",
    "filters *= 2\n",
    "\n",
    "# Down 5, 8\n",
    "d5 = down(d4, filters, pool=False)\n",
    "\n",
    "# Up 1, 16\n",
    "up1 = up(d5, residual=residuals[-1], filters=filters/2)\n",
    "\n",
    "filters /= 2\n",
    "\n",
    "# Up 2,  32\n",
    "up2 = up(up1, residual=residuals[-2], filters=filters/2)\n",
    "\n",
    "filters /= 2\n",
    "\n",
    "# Up 3, 64\n",
    "up3 = up(up2, residual=residuals[-3], filters=filters/2)\n",
    "\n",
    "filters /= 2\n",
    "\n",
    "# Up 4, 128\n",
    "up4 = up(up3, residual=residuals[-4], filters=filters/2)\n",
    "\n",
    "out = Conv2D(filters=1, kernel_size=(1, 1), activation=\"sigmoid\")(up4)\n",
    "\n",
    "model = Model(input_layer, out)\n",
    "\n",
    "model.summary()\n",
    "model.compile(optimizer=Adam(lr=1e-5), loss=dice_coef_loss, metrics=[dice_coef])"
   ]
  },
  {
   "cell_type": "code",
   "execution_count": 7,
   "metadata": {
    "collapsed": true
   },
   "outputs": [],
   "source": [
    "def get_unet():\n",
    "    print('in get_unet')\n",
    "    inputs = Input((img_rows, img_cols, 1))\n",
    "    conv1 = Conv2D(32, (3, 3), activation='relu', padding='same')(inputs)\n",
    "    conv1 = Conv2D(32, (3, 3), activation='relu', padding='same')(conv1)\n",
    "    pool1 = MaxPooling2D(pool_size=(2, 2))(conv1)\n",
    "\n",
    "    conv2 = Conv2D(64, (3, 3), activation='relu', padding='same')(pool1)\n",
    "    conv2 = Conv2D(64, (3, 3), activation='relu', padding='same')(conv2)\n",
    "    pool2 = MaxPooling2D(pool_size=(2, 2))(conv2)\n",
    "\n",
    "    conv3 = Conv2D(128, (3, 3), activation='relu', padding='same')(pool2)\n",
    "    conv3 = Conv2D(128, (3, 3), activation='relu', padding='same')(conv3)\n",
    "    pool3 = MaxPooling2D(pool_size=(2, 2))(conv3)\n",
    "\n",
    "    conv4 = Conv2D(256, (3, 3), activation='relu', padding='same')(pool3)\n",
    "    conv4 = Conv2D(256, (3, 3), activation='relu', padding='same')(conv4)\n",
    "    pool4 = MaxPooling2D(pool_size=(2, 2))(conv4)\n",
    "\n",
    "    conv5 = Conv2D(512, (3, 3), activation='relu', padding='same')(pool4)\n",
    "    conv5 = Conv2D(512, (3, 3), activation='relu', padding='same')(conv5)\n",
    "\n",
    "    up6 = concatenate([Conv2DTranspose(256, (2, 2), strides=(2, 2), padding='same')(conv5), conv4], axis=3)\n",
    "    conv6 = Conv2D(256, (3, 3), activation='relu', padding='same')(up6)\n",
    "    conv6 = Conv2D(256, (3, 3), activation='relu', padding='same')(conv6)\n",
    "\n",
    "    up7 = concatenate([Conv2DTranspose(128, (2, 2), strides=(2, 2), padding='same')(conv6), conv3], axis=3)\n",
    "    conv7 = Conv2D(128, (3, 3), activation='relu', padding='same')(up7)\n",
    "    conv7 = Conv2D(128, (3, 3), activation='relu', padding='same')(conv7)\n",
    "\n",
    "    up8 = concatenate([Conv2DTranspose(64, (2, 2), strides=(2, 2), padding='same')(conv7), conv2], axis=3)\n",
    "    conv8 = Conv2D(64, (3, 3), activation='relu', padding='same')(up8)\n",
    "    conv8 = Conv2D(64, (3, 3), activation='relu', padding='same')(conv8)\n",
    "\n",
    "    up9 = concatenate([Conv2DTranspose(32, (2, 2), strides=(2, 2), padding='same')(conv8), conv1], axis=3)\n",
    "    conv9 = Conv2D(32, (3, 3), activation='relu', padding='same')(up9)\n",
    "    conv9 = Conv2D(32, (3, 3), activation='relu', padding='same')(conv9)\n",
    "\n",
    "    conv10 = Conv2D(1, (1, 1), activation='sigmoid')(conv9)\n",
    "\n",
    "    model = Model(inputs=[inputs], outputs=[conv10])\n",
    "\n",
    "    model.compile(optimizer=Adam(lr=1e-5), loss=dice_coef_loss, metrics=[dice_coef])\n",
    "    return \n"
   ]
  },
  {
   "cell_type": "code",
   "execution_count": 8,
   "metadata": {
    "collapsed": true
   },
   "outputs": [],
   "source": [
    "def preprocess(imgs):\n",
    "    imgs_p = np.ndarray((imgs.shape[0], img_rows, img_cols), dtype=np.uint8)\n",
    "    for i in range(imgs.shape[0]):\n",
    "        imgs_p[i] = resize(imgs[i], (img_cols, img_rows), preserve_range=True)\n",
    "\n",
    "    imgs_p = imgs_p[..., np.newaxis]\n",
    "    return imgs_p\n"
   ]
  },
  {
   "cell_type": "code",
   "execution_count": 9,
   "metadata": {
    "collapsed": true
   },
   "outputs": [],
   "source": [
    "def train_and_predict():\n",
    "    print('-'*30)\n",
    "    \n",
    "    print('Loading and preprocessing train data...')\n",
    "    print('-'*30)\n",
    "    imgs_train, imgs_mask_train = load_train_data()\n",
    "\n",
    "    imgs_train = preprocess(imgs_train)\n",
    "    imgs_mask_train = preprocess(imgs_mask_train)\n",
    "\n",
    "    imgs_train = imgs_train.astype('float32')\n",
    "    mean = np.mean(imgs_train)  # mean for data centering\n",
    "    std = np.std(imgs_train)  # std for data normalization\n",
    "\n",
    "    imgs_train -= mean\n",
    "    imgs_train /= std\n",
    "\n",
    "    imgs_mask_train = imgs_mask_train.astype('float32')\n",
    "    imgs_mask_train /= 255.  # scale masks to [0, 1]\n",
    "\n",
    "    \n",
    "    print('Creating and compiling model...')\n",
    "\n",
    "    \n",
    "    model\n",
    "    #model.summary()\n",
    "    model_checkpoint = ModelCheckpoint('weights.h5', monitor='val_loss', save_best_only=True)\n",
    "\n",
    "\n",
    "    model.fit(imgs_train, imgs_mask_train, batch_size=32, epochs=20, verbose=1, shuffle=True,\n",
    "              validation_split=0.2,\n",
    "              callbacks=[model_checkpoint])\n",
    "    return "
   ]
  },
  {
   "cell_type": "code",
   "execution_count": null,
   "metadata": {
    "collapsed": true
   },
   "outputs": [],
   "source": []
  },
  {
   "cell_type": "code",
   "execution_count": 10,
   "metadata": {},
   "outputs": [
    {
     "name": "stdout",
     "output_type": "stream",
     "text": [
      "------------------------------\n",
      "Loading and preprocessing train data...\n",
      "------------------------------\n"
     ]
    },
    {
     "name": "stderr",
     "output_type": "stream",
     "text": [
      "/home/saurabh/myproject/tensorflow/local/lib/python2.7/site-packages/skimage/transform/_warps.py:84: UserWarning: The default mode, 'constant', will be changed to 'reflect' in skimage 0.15.\n",
      "  warn(\"The default mode, 'constant', will be changed to 'reflect' in \"\n"
     ]
    },
    {
     "name": "stdout",
     "output_type": "stream",
     "text": [
      "Creating and compiling model...\n",
      "Train on 4508 samples, validate on 1127 samples\n",
      "Epoch 1/20\n",
      "4508/4508 [==============================] - 76s - loss: 0.7868 - dice_coef: 0.2132 - val_loss: 0.6650 - val_dice_coef: 0.3350\n",
      "Epoch 2/20\n",
      "4508/4508 [==============================] - 62s - loss: 0.5882 - dice_coef: 0.4118 - val_loss: 0.5615 - val_dice_coef: 0.4385\n",
      "Epoch 3/20\n",
      "4508/4508 [==============================] - 61s - loss: 0.5260 - dice_coef: 0.4740 - val_loss: 0.4975 - val_dice_coef: 0.5025\n",
      "Epoch 4/20\n",
      "4508/4508 [==============================] - 62s - loss: 0.4872 - dice_coef: 0.5128 - val_loss: 0.4790 - val_dice_coef: 0.5210\n",
      "Epoch 5/20\n",
      "4508/4508 [==============================] - 61s - loss: 0.4612 - dice_coef: 0.5388 - val_loss: 0.4602 - val_dice_coef: 0.5398\n",
      "Epoch 6/20\n",
      "4508/4508 [==============================] - 61s - loss: 0.4391 - dice_coef: 0.5609 - val_loss: 0.4512 - val_dice_coef: 0.5488\n",
      "Epoch 7/20\n",
      "4508/4508 [==============================] - 61s - loss: 0.4237 - dice_coef: 0.5763 - val_loss: 0.4331 - val_dice_coef: 0.5669\n",
      "Epoch 8/20\n",
      "4508/4508 [==============================] - 61s - loss: 0.4145 - dice_coef: 0.5855 - val_loss: 0.4344 - val_dice_coef: 0.5656\n",
      "Epoch 9/20\n",
      "4508/4508 [==============================] - 61s - loss: 0.3973 - dice_coef: 0.6027 - val_loss: 0.4288 - val_dice_coef: 0.5712\n",
      "Epoch 10/20\n",
      "4508/4508 [==============================] - 63s - loss: 0.3917 - dice_coef: 0.6083 - val_loss: 0.4198 - val_dice_coef: 0.5802\n",
      "Epoch 11/20\n",
      "4508/4508 [==============================] - 62s - loss: 0.3724 - dice_coef: 0.6276 - val_loss: 0.4412 - val_dice_coef: 0.5588\n",
      "Epoch 12/20\n",
      "4508/4508 [==============================] - 62s - loss: 0.3650 - dice_coef: 0.6350 - val_loss: 0.4125 - val_dice_coef: 0.5875\n",
      "Epoch 13/20\n",
      "4508/4508 [==============================] - 61s - loss: 0.3547 - dice_coef: 0.6453 - val_loss: 0.4066 - val_dice_coef: 0.5934\n",
      "Epoch 14/20\n",
      "4508/4508 [==============================] - 60s - loss: 0.3429 - dice_coef: 0.6571 - val_loss: 0.4068 - val_dice_coef: 0.5932\n",
      "Epoch 15/20\n",
      "4508/4508 [==============================] - 60s - loss: 0.3307 - dice_coef: 0.6693 - val_loss: 0.4079 - val_dice_coef: 0.5921\n",
      "Epoch 16/20\n",
      "4508/4508 [==============================] - 61s - loss: 0.3253 - dice_coef: 0.6747 - val_loss: 0.4028 - val_dice_coef: 0.5972\n",
      "Epoch 17/20\n",
      "4508/4508 [==============================] - 61s - loss: 0.3151 - dice_coef: 0.6849 - val_loss: 0.4034 - val_dice_coef: 0.5966\n",
      "Epoch 18/20\n",
      "4508/4508 [==============================] - 61s - loss: 0.3013 - dice_coef: 0.6987 - val_loss: 0.4073 - val_dice_coef: 0.5927\n",
      "Epoch 19/20\n",
      "4508/4508 [==============================] - 61s - loss: 0.2946 - dice_coef: 0.7054 - val_loss: 0.4214 - val_dice_coef: 0.5786\n",
      "Epoch 20/20\n",
      "4508/4508 [==============================] - 61s - loss: 0.2819 - dice_coef: 0.7181 - val_loss: 0.4164 - val_dice_coef: 0.5836\n"
     ]
    }
   ],
   "source": [
    "if __name__ == '__main__':\n",
    "    train_and_predict()"
   ]
  }
 ],
 "metadata": {
  "kernelspec": {
   "display_name": "Python 2",
   "language": "python",
   "name": "python2"
  },
  "language_info": {
   "codemirror_mode": {
    "name": "ipython",
    "version": 2
   },
   "file_extension": ".py",
   "mimetype": "text/x-python",
   "name": "python",
   "nbconvert_exporter": "python",
   "pygments_lexer": "ipython2",
   "version": "2.7.12"
  }
 },
 "nbformat": 4,
 "nbformat_minor": 2
}
